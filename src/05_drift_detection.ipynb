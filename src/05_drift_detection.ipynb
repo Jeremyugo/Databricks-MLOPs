{
 "cells": [
  {
   "cell_type": "markdown",
   "metadata": {
    "application/vnd.databricks.v1+cell": {
     "cellMetadata": {},
     "inputWidgets": {},
     "nuid": "2987d9a6-e32d-44fe-9c2f-02e1d9f13b04",
     "showTitle": false,
     "tableResultSettingsMap": {},
     "title": ""
    }
   },
   "source": [
    "# Data Drift Detection"
   ]
  },
  {
   "cell_type": "code",
   "execution_count": 0,
   "metadata": {
    "application/vnd.databricks.v1+cell": {
     "cellMetadata": {},
     "inputWidgets": {},
     "nuid": "c107d225-f4ed-48a4-abda-220e1249c686",
     "showTitle": false,
     "tableResultSettingsMap": {},
     "title": ""
    }
   },
   "outputs": [],
   "source": [
    "%%sql\n",
    "\n",
    "use catalog main;\n",
    "\n",
    "use schema dbdemos_mlops;"
   ]
  },
  {
   "cell_type": "code",
   "execution_count": 0,
   "metadata": {
    "application/vnd.databricks.v1+cell": {
     "cellMetadata": {},
     "inputWidgets": {},
     "nuid": "b460f01b-05c5-44ea-b02f-ce36adc16794",
     "showTitle": false,
     "tableResultSettingsMap": {},
     "title": ""
    }
   },
   "outputs": [],
   "source": [
    "import time\n",
    "from databricks.sdk import WorkspaceClient\n",
    "from databricks.sdk.service.catalog import MonitorInfoStatus, MonitorRefreshInfoState"
   ]
  },
  {
   "cell_type": "code",
   "execution_count": 0,
   "metadata": {
    "application/vnd.databricks.v1+cell": {
     "cellMetadata": {},
     "inputWidgets": {},
     "nuid": "3cf5dbfa-ead7-41ac-bb74-046ed5ee6093",
     "showTitle": false,
     "tableResultSettingsMap": {},
     "title": ""
    }
   },
   "outputs": [],
   "source": [
    "%run /Workspace/Users/jeremyugoo@gmail.com/Databricks-MLOPs/mlops1/mlops-end2end/_resources/00-setup $adv_mlops=true $gen_synthetic_data=true"
   ]
  },
  {
   "cell_type": "code",
   "execution_count": 0,
   "metadata": {
    "application/vnd.databricks.v1+cell": {
     "cellMetadata": {},
     "inputWidgets": {},
     "nuid": "a7bf7386-8438-487d-9b08-6b767f64d0ed",
     "showTitle": false,
     "tableResultSettingsMap": {},
     "title": ""
    }
   },
   "outputs": [],
   "source": [
    "catalog = 'main'\n",
    "db = 'dbdemos_mlops'\n",
    "\n",
    "w = WorkspaceClient()\n",
    "refresh_info = w.quality_monitors.run_refresh(table_name=f\"{catalog}.{db}.advanced_churn_inference_table\")\n",
    "\n",
    "while refresh_info.state in (MonitorRefreshInfoState.PENDING, MonitorRefreshInfoState.RUNNING):\n",
    "  refresh_info = w.quality_monitors.get_refresh(table_name=f\"{catalog}.{db}.advanced_churn_inference_table\", refresh_id=refresh_info.refresh_id)\n",
    "  time.sleep(30)"
   ]
  },
  {
   "cell_type": "code",
   "execution_count": 0,
   "metadata": {
    "application/vnd.databricks.v1+cell": {
     "cellMetadata": {},
     "inputWidgets": {},
     "nuid": "4ebd1d9b-1703-4b1f-a7d1-9ab76b6135c7",
     "showTitle": false,
     "tableResultSettingsMap": {},
     "title": ""
    }
   },
   "outputs": [],
   "source": [
    "monitor_info = w.quality_monitors.get(table_name=f\"{catalog}.{db}.advanced_churn_inference_table\")\n",
    "drift_table_name = monitor_info.drift_metrics_table_name\n",
    "profile_table_name = monitor_info.profile_metrics_table_name"
   ]
  },
  {
   "cell_type": "code",
   "execution_count": 0,
   "metadata": {
    "application/vnd.databricks.v1+cell": {
     "cellMetadata": {},
     "inputWidgets": {},
     "nuid": "c18569e2-265b-4ccb-98ad-c8893d73cc5b",
     "showTitle": false,
     "tableResultSettingsMap": {},
     "title": ""
    }
   },
   "outputs": [],
   "source": [
    "dbutils.widgets.dropdown(\"perf_metric\", \"f1_score.macro\", [\"accuracy_score\", \"precision.weighted\", \"recall.weighted\", \"f1_score.macro\"])\n",
    "dbutils.widgets.dropdown(\"drift_metric\", \"js_distance\", [\"chi_squared_test.statistic\", \"chi_squared_test.pvalue\", \"tv_distance\", \"l_infinity_distance\", \"js_distance\"])\n",
    "dbutils.widgets.text(\"model_id\", \"*\", \"Model Id\")"
   ]
  },
  {
   "cell_type": "code",
   "execution_count": 0,
   "metadata": {
    "application/vnd.databricks.v1+cell": {
     "cellMetadata": {},
     "inputWidgets": {},
     "nuid": "73156255-493a-48dd-81f4-c9ef10fb8e66",
     "showTitle": false,
     "tableResultSettingsMap": {},
     "title": ""
    }
   },
   "outputs": [],
   "source": [
    "metric = dbutils.widgets.get(\"perf_metric\")\n",
    "drift = dbutils.widgets.get(\"drift_metric\")\n",
    "model_id = dbutils.widgets.get(\"model_id\")"
   ]
  },
  {
   "cell_type": "code",
   "execution_count": 0,
   "metadata": {
    "application/vnd.databricks.v1+cell": {
     "cellMetadata": {},
     "inputWidgets": {},
     "nuid": "d3806c4b-49ca-4431-9be3-7700df92445c",
     "showTitle": false,
     "tableResultSettingsMap": {},
     "title": ""
    }
   },
   "outputs": [],
   "source": [
    "performance_metrics_df = spark.sql(f\"\"\"\n",
    "SELECT\n",
    "  window.start as time,\n",
    "  {metric} AS performance_metric,\n",
    "  expected_loss,\n",
    "  Model_Version AS `Model Id`\n",
    "FROM {profile_table_name}\n",
    "WHERE\n",
    "  window.start >= \"2024-06-01\"\n",
    "\tAND log_type = \"INPUT\"\n",
    "  AND column_name = \":table\"\n",
    "  AND slice_key is null\n",
    "  AND slice_value is null\n",
    "  AND Model_Version = '{model_id}'\n",
    "ORDER BY\n",
    "  window.start\n",
    "\"\"\"\n",
    ")\n",
    "display(performance_metrics_df)"
   ]
  },
  {
   "cell_type": "code",
   "execution_count": 0,
   "metadata": {
    "application/vnd.databricks.v1+cell": {
     "cellMetadata": {},
     "inputWidgets": {},
     "nuid": "449eb2c0-8319-486b-b42a-38f498968fae",
     "showTitle": false,
     "tableResultSettingsMap": {},
     "title": ""
    }
   },
   "outputs": [],
   "source": [
    "drift_metrics_df = spark.sql(f\"\"\"\n",
    "  SELECT\n",
    "  window.start AS time,\n",
    "  column_name,\n",
    "  {drift} AS drift_metric,\n",
    "  Model_Version AS `Model Id`\n",
    "FROM {drift_table_name}\n",
    "WHERE\n",
    "  column_name IN ('prediction', 'churn')\n",
    "  AND window.start >= \"2024-06-01\"\n",
    "  AND slice_key is null\n",
    "  AND slice_value is null\n",
    "  AND Model_Version = '{model_id}'\n",
    "  AND drift_type = \"CONSECUTIVE\"\n",
    "ORDER BY\n",
    "  window.start\n",
    "\"\"\"\n",
    ")\n",
    "display(drift_metrics_df )"
   ]
  },
  {
   "cell_type": "code",
   "execution_count": 0,
   "metadata": {
    "application/vnd.databricks.v1+cell": {
     "cellMetadata": {},
     "inputWidgets": {},
     "nuid": "8d8ba822-1945-4c6b-82cb-68fafe1305ae",
     "showTitle": false,
     "tableResultSettingsMap": {},
     "title": ""
    }
   },
   "outputs": [],
   "source": [
    "from pyspark.sql.functions import first\n",
    "\n",
    "# if no drift on the label or prediction, we skip it\n",
    "if not drift_metrics_df.isEmpty():\n",
    "    unstacked_drift_metrics_df = (\n",
    "        drift_metrics_df.groupBy(\"time\", \"`Model Id`\")\n",
    "        .pivot(\"column_name\")\n",
    "        .agg(first(\"drift_metric\"))\n",
    "        .orderBy(\"time\")\n",
    "    )\n",
    "    display(unstacked_drift_metrics_df)"
   ]
  },
  {
   "cell_type": "code",
   "execution_count": 0,
   "metadata": {
    "application/vnd.databricks.v1+cell": {
     "cellMetadata": {},
     "inputWidgets": {},
     "nuid": "adc99858-decd-4db1-8938-c58cd86ccb81",
     "showTitle": false,
     "tableResultSettingsMap": {},
     "title": ""
    }
   },
   "outputs": [],
   "source": [
    "all_metrics_df = performance_metrics_df\n",
    "if not drift_metrics_df.isEmpty():\n",
    "    all_metrics_df = performance_metrics_df.join(\n",
    "        unstacked_drift_metrics_df, on=[\"time\", \"Model Id\"], how=\"inner\"\n",
    "    )\n",
    "\n",
    "display(all_metrics_df)"
   ]
  },
  {
   "cell_type": "markdown",
   "metadata": {
    "application/vnd.databricks.v1+cell": {
     "cellMetadata": {},
     "inputWidgets": {},
     "nuid": "68d6fbe2-0795-4656-9880-49b9f1d81273",
     "showTitle": false,
     "tableResultSettingsMap": {},
     "title": ""
    }
   },
   "source": [
    "### Count total number of violations and save as task value\n",
    "- performance metric < 0.5\n",
    "- Average expected loss per customer (custom business metric) > $30.0"
   ]
  },
  {
   "cell_type": "code",
   "execution_count": 0,
   "metadata": {
    "application/vnd.databricks.v1+cell": {
     "cellMetadata": {},
     "inputWidgets": {},
     "nuid": "88a21fe9-91ec-418e-8485-af105672de84",
     "showTitle": false,
     "tableResultSettingsMap": {},
     "title": ""
    }
   },
   "outputs": [],
   "source": [
    "from pyspark.sql.functions import col, abs\n",
    "\n",
    "\n",
    "performance_violation_count = all_metrics_df.where(\n",
    "    (col(\"performance_metric\") < 0.5) & (abs(col(\"expected_loss\")) > 30)\n",
    ").count()\n",
    "\n",
    "drift_violation_count = 0\n",
    "if not drift_metrics_df.isEmpty():\n",
    "    drift_violation_count = all_metrics_df.where(\n",
    "        (col(\"churn\") > 0.19) & (col(\"prediction\") > 0.19)\n",
    "    ).count()\n",
    "\n",
    "all_violations_count = drift_violation_count + performance_violation_count\n",
    "\n",
    "print(f\"Total number of joint violations: {all_violations_count}\")"
   ]
  },
  {
   "cell_type": "markdown",
   "metadata": {
    "application/vnd.databricks.v1+cell": {
     "cellMetadata": {},
     "inputWidgets": {},
     "nuid": "d16ee86d-67e3-4013-aa23-912539ee01fc",
     "showTitle": false,
     "tableResultSettingsMap": {},
     "title": ""
    }
   },
   "source": [
    "### Next: Trigger model retraining\n",
    "if violations are detected, we should automatically:\n",
    "- retrain the machine learning model\n",
    "- send an alert to owners via email"
   ]
  },
  {
   "cell_type": "code",
   "execution_count": 0,
   "metadata": {
    "application/vnd.databricks.v1+cell": {
     "cellMetadata": {},
     "inputWidgets": {},
     "nuid": "ef346dfb-1f24-4343-99af-ac40d8c13c4f",
     "showTitle": false,
     "tableResultSettingsMap": {},
     "title": ""
    }
   },
   "outputs": [],
   "source": [
    "dbutils.jobs.taskValues.set(key = 'all_violations_count', value = all_violations_count)"
   ]
  }
 ],
 "metadata": {
  "application/vnd.databricks.v1+notebook": {
   "computePreferences": null,
   "dashboards": [],
   "environmentMetadata": {
    "base_environment": "",
    "environment_version": "2"
   },
   "inputWidgetPreferences": null,
   "language": "python",
   "notebookMetadata": {
    "pythonIndentUnit": 4
   },
   "notebookName": "05_drift_detection",
   "widgets": {}
  },
  "language_info": {
   "name": "python"
  }
 },
 "nbformat": 4,
 "nbformat_minor": 0
}
