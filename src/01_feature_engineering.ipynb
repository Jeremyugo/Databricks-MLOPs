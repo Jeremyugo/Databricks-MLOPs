{
 "cells": [
  {
   "cell_type": "markdown",
   "metadata": {
    "application/vnd.databricks.v1+cell": {
     "cellMetadata": {},
     "inputWidgets": {},
     "nuid": "1fe53475-9520-4ba7-a9b0-2db9be679e9f",
     "showTitle": false,
     "tableResultSettingsMap": {},
     "title": ""
    }
   },
   "source": [
    "# Data Processing and Feature Engineering"
   ]
  },
  {
   "cell_type": "code",
   "execution_count": 0,
   "metadata": {
    "application/vnd.databricks.v1+cell": {
     "cellMetadata": {},
     "inputWidgets": {},
     "nuid": "b8a12632-936f-4800-84e5-a7369a2b4de2",
     "showTitle": false,
     "tableResultSettingsMap": {},
     "title": ""
    }
   },
   "outputs": [],
   "source": [
    "from pyspark.sql import DataFrame as SparkDataFrame\n",
    "from pyspark.sql.functions import pandas_udf, col, when, lit\n",
    "\n",
    "from datetime import datetime\n",
    "\n",
    "import pyspark.sql.functions as F\n",
    "from databricks.sdk import WorkspaceClient\n",
    "from databricks.feature_engineering import FeatureEngineeringClient"
   ]
  },
  {
   "cell_type": "markdown",
   "metadata": {
    "application/vnd.databricks.v1+cell": {
     "cellMetadata": {},
     "inputWidgets": {},
     "nuid": "f8c914a9-7de4-402c-963c-f6a01f7032bf",
     "showTitle": false,
     "tableResultSettingsMap": {},
     "title": ""
    }
   },
   "source": [
    "**Defining the catalog and schema to use**"
   ]
  },
  {
   "cell_type": "code",
   "execution_count": 0,
   "metadata": {
    "application/vnd.databricks.v1+cell": {
     "cellMetadata": {
      "byteLimit": 2048000,
      "rowLimit": 10000
     },
     "inputWidgets": {},
     "nuid": "67ccb201-2a94-484b-85f0-dc5b06f7cc77",
     "showTitle": false,
     "tableResultSettingsMap": {},
     "title": ""
    }
   },
   "outputs": [],
   "source": [
    "%%sql\n",
    "\n",
    "use catalog main;\n",
    "\n",
    "use schema dbdemos_mlops;"
   ]
  },
  {
   "cell_type": "code",
   "execution_count": 0,
   "metadata": {
    "application/vnd.databricks.v1+cell": {
     "cellMetadata": {
      "byteLimit": 2048000,
      "rowLimit": 10000
     },
     "inputWidgets": {},
     "nuid": "d1489f5f-a9e3-4f2f-b0a1-18de297c8aed",
     "showTitle": false,
     "tableResultSettingsMap": {},
     "title": ""
    }
   },
   "outputs": [],
   "source": [
    "# loadig the dataset\n",
    "telcoDF = spark.table('advanced_churn_bronze_customers')\n",
    "display(telcoDF.limit(10))"
   ]
  },
  {
   "cell_type": "markdown",
   "metadata": {
    "application/vnd.databricks.v1+cell": {
     "cellMetadata": {},
     "inputWidgets": {},
     "nuid": "0468c890-bed2-4af3-854c-11464ba0399a",
     "showTitle": false,
     "tableResultSettingsMap": {},
     "title": ""
    }
   },
   "source": [
    "## Define Featurization Logic(s) for BATCH feature computation"
   ]
  },
  {
   "cell_type": "code",
   "execution_count": 0,
   "metadata": {
    "application/vnd.databricks.v1+cell": {
     "cellMetadata": {
      "byteLimit": 2048000,
      "rowLimit": 10000
     },
     "inputWidgets": {},
     "nuid": "a27c3517-cf07-4dc3-aa86-7e40e33f5634",
     "showTitle": false,
     "tableResultSettingsMap": {},
     "title": ""
    }
   },
   "outputs": [],
   "source": [
    "def compute_service_features(inputDF: SparkDataFrame) -> SparkDataFrame:\n",
    "  \"\"\"\n",
    "    Creates a new column 'num_optional_services' that counts the number of optional services\n",
    "  \"\"\"\n",
    "\n",
    "  @pandas_udf('double')\n",
    "  def num_optional_services(*cols):\n",
    "    # Nested helper function to count the number of optional services in a pandas dataframe\n",
    "    return sum(map(lambda s: (s == \"Yes\").astype('double'), cols))\n",
    "\n",
    "  return inputDF.\\\n",
    "    withColumn(\"num_optional_services\",\n",
    "        num_optional_services(\"online_security\", \"online_backup\", \"device_protection\", \"tech_support\", \"streaming_tv\", \"streaming_movies\"))"
   ]
  },
  {
   "cell_type": "code",
   "execution_count": 0,
   "metadata": {
    "application/vnd.databricks.v1+cell": {
     "cellMetadata": {
      "byteLimit": 2048000,
      "rowLimit": 10000
     },
     "inputWidgets": {},
     "nuid": "94bb143f-d70d-4a10-8158-57a534bc24a4",
     "showTitle": false,
     "tableResultSettingsMap": {},
     "title": ""
    }
   },
   "outputs": [],
   "source": [
    "def clean_churn_features(dataDF: SparkDataFrame) -> SparkDataFrame:\n",
    "  \"\"\"\n",
    "    Simple cleaning function\n",
    "  \"\"\"\n",
    "\n",
    "  pandas_data_df = dataDF.pandas_api()\n",
    "\n",
    "  pandas_data_df = pandas_data_df.astype({'senior_citizen': 'string'})\n",
    "  pandas_data_df['senior_citizen'] = pandas_data_df['senior_citizen'].map({'1':'Yes', '0':'No'})\n",
    "\n",
    "  pandas_data_df['total_charges'] = pandas_data_df['total_charges'].apply(lambda x: float(x) if x.strip() else 0)\n",
    "\n",
    "  pandas_data_df = pandas_data_df.fillna({\n",
    "    'tenure': 0.0,\n",
    "    'monthly_charges': 0.0,\n",
    "    'total_charges': 0.0\n",
    "  })\n",
    "\n",
    "  clean_df = pandas_data_df.to_spark()\n",
    "  clean_df = clean_df.withMetadata('customer_id', {'spark.contentAnnotation.semanticType': 'native'})\n",
    "  clean_df = clean_df.withMetadata(\"num_optional_services\", {\"spark.contentAnnotation.semanticType\":\"numeric\"})\n",
    "\n",
    "  return clean_df"
   ]
  },
  {
   "cell_type": "markdown",
   "metadata": {
    "application/vnd.databricks.v1+cell": {
     "cellMetadata": {},
     "inputWidgets": {},
     "nuid": "06300c3f-a64c-47c8-88c7-346b4336e307",
     "showTitle": false,
     "tableResultSettingsMap": {},
     "title": ""
    }
   },
   "source": [
    "### Write to Feature Store\n"
   ]
  },
  {
   "cell_type": "code",
   "execution_count": 0,
   "metadata": {
    "application/vnd.databricks.v1+cell": {
     "cellMetadata": {
      "byteLimit": 2048000,
      "rowLimit": 10000
     },
     "inputWidgets": {},
     "nuid": "1fa27edd-b8e5-4adf-aec1-b1200b4a8da0",
     "showTitle": false,
     "tableResultSettingsMap": {},
     "title": ""
    }
   },
   "outputs": [],
   "source": [
    "current_time = datetime.now().timestamp()\n",
    "churn_features_n_predsDF = clean_churn_features(compute_service_features(telcoDF)).withColumn('transaction_ts', lit(current_time).cast('timestamp'))"
   ]
  },
  {
   "cell_type": "markdown",
   "metadata": {
    "application/vnd.databricks.v1+cell": {
     "cellMetadata": {},
     "inputWidgets": {},
     "nuid": "528147ca-2ff5-468a-b8e9-06162efbbff3",
     "showTitle": false,
     "tableResultSettingsMap": {},
     "title": ""
    }
   },
   "source": [
    "### Create train, val, and test categorical labels for each instance\n",
    "\n",
    "will be used by model validation jobs\n"
   ]
  },
  {
   "cell_type": "code",
   "execution_count": 0,
   "metadata": {
    "application/vnd.databricks.v1+cell": {
     "cellMetadata": {
      "byteLimit": 2048000,
      "rowLimit": 10000
     },
     "inputWidgets": {},
     "nuid": "e8cca933-9d79-4a8b-b797-b792a3a48b75",
     "showTitle": false,
     "tableResultSettingsMap": {},
     "title": ""
    }
   },
   "outputs": [],
   "source": [
    "train_ratio, val_ration, test_ratio = 0.7, 0.2, 0.1\n",
    "\n",
    "(\n",
    "  churn_features_n_predsDF.select('customer_id', 'transaction_ts', 'churn')\n",
    "  .withColumn('random', F.rand(seed=42))\n",
    "  .withColumn('split', \n",
    "              F.when(F.col('random') < train_ratio, 'train')\n",
    "              .when(F.col('random') < train_ratio + val_ration, 'val')\n",
    "              .otherwise('test')\n",
    "              )\n",
    "  .drop('random')\n",
    "  .write.mode('overwrite')\n",
    "  .format('delta')\n",
    "  .saveAsTable('advanced_churn_label_table')\n",
    ")\n",
    "\n",
    "churn_featuresDF = churn_features_n_predsDF.drop('churn')"
   ]
  },
  {
   "cell_type": "code",
   "execution_count": 0,
   "metadata": {
    "application/vnd.databricks.v1+cell": {
     "cellMetadata": {
      "byteLimit": 2048000,
      "implicitDf": true,
      "rowLimit": 10000
     },
     "inputWidgets": {},
     "nuid": "5d58ba86-1f0b-4be7-b162-6927c7849d44",
     "showTitle": false,
     "tableResultSettingsMap": {},
     "title": ""
    }
   },
   "outputs": [],
   "source": [
    "%sql\n",
    "-- add primary key constraint to the label for feature lookup\n",
    "\n",
    "alter table advanced_churn_label_table drop constraint if exists advanced_churn_label_table_pk;\n",
    "alter table advanced_churn_label_table alter column customer_id set not null;\n",
    "alter table advanced_churn_label_table alter column transaction_ts SET NOT NULL;\n",
    "alter table advanced_churn_label_table add constraint advanced_churn_label_table_pk PRIMARY KEY(customer_id, transaction_ts);"
   ]
  },
  {
   "cell_type": "markdown",
   "metadata": {
    "application/vnd.databricks.v1+cell": {
     "cellMetadata": {},
     "inputWidgets": {},
     "nuid": "6b59bdc4-ffa7-471a-908d-33208073ff8a",
     "showTitle": false,
     "tableResultSettingsMap": {},
     "title": ""
    }
   },
   "source": [
    "### write the feature table to unity catalog"
   ]
  },
  {
   "cell_type": "code",
   "execution_count": 0,
   "metadata": {
    "application/vnd.databricks.v1+cell": {
     "cellMetadata": {
      "byteLimit": 2048000,
      "rowLimit": 10000
     },
     "inputWidgets": {},
     "nuid": "492243de-c08a-4e40-81a6-3596231b9237",
     "showTitle": false,
     "tableResultSettingsMap": {},
     "title": ""
    }
   },
   "outputs": [],
   "source": [
    "# delete online feature table if it exists\n",
    "w = WorkspaceClient()\n",
    "\n",
    "try:\n",
    "  online_table_specs = w.online_tables.get('main.dbdemos_mlops.advanced_churn_feature_table_online_table')\n",
    "  # drop existing online feature tables\n",
    "  w.online_tables.delete(name='main.dbdemos_mlops.advanced_churn_feature_table_online_table')\n",
    "  print(\"Deleted existing online feature table main.dbdemos_mlops.advanced_churn_feature_table_online_table\")\n",
    "\n",
    "except Exception as e:\n",
    "  print(\"No existing online feature table found\")"
   ]
  },
  {
   "cell_type": "code",
   "execution_count": 0,
   "metadata": {
    "application/vnd.databricks.v1+cell": {
     "cellMetadata": {
      "byteLimit": 2048000,
      "implicitDf": true,
      "rowLimit": 10000
     },
     "inputWidgets": {},
     "nuid": "44530d41-4176-4825-af61-5fce87d599cd",
     "showTitle": false,
     "tableResultSettingsMap": {},
     "title": ""
    }
   },
   "outputs": [],
   "source": [
    "%sql\n",
    "\n",
    "DROP TABLE IF EXISTS advanced_churn_feature_table;"
   ]
  },
  {
   "cell_type": "code",
   "execution_count": 0,
   "metadata": {
    "application/vnd.databricks.v1+cell": {
     "cellMetadata": {
      "byteLimit": 2048000,
      "rowLimit": 10000
     },
     "inputWidgets": {},
     "nuid": "abc8bfe7-721b-41c8-ae0e-2d235c068761",
     "showTitle": false,
     "tableResultSettingsMap": {},
     "title": ""
    }
   },
   "outputs": [],
   "source": [
    "# create feature table\n",
    "fe = FeatureEngineeringClient()\n",
    "\n",
    "churn_feature_table = fe.create_table(\n",
    "    name='advanced_churn_feature_table',\n",
    "    primary_keys=['customer_id', 'transaction_ts'],\n",
    "    schema=churn_featuresDF.schema,\n",
    "    timeseries_column='transaction_ts',\n",
    ")\n",
    "\n",
    "\n",
    "fe.write_table(\n",
    "    name='advanced_churn_feature_table',\n",
    "    df=churn_featuresDF,\n",
    "    mode='merge'\n",
    ")"
   ]
  },
  {
   "cell_type": "markdown",
   "metadata": {
    "application/vnd.databricks.v1+cell": {
     "cellMetadata": {},
     "inputWidgets": {},
     "nuid": "de5cde0b-8820-4c51-8d3c-3d5b4266014a",
     "showTitle": false,
     "tableResultSettingsMap": {},
     "title": ""
    }
   },
   "source": [
    "### Define Featurization Logic for on-demand feature functions\n",
    "On-deman function to calculate new feature during inference"
   ]
  },
  {
   "cell_type": "code",
   "execution_count": 0,
   "metadata": {
    "application/vnd.databricks.v1+cell": {
     "cellMetadata": {
      "byteLimit": 2048000,
      "implicitDf": true,
      "rowLimit": 10000
     },
     "inputWidgets": {},
     "nuid": "0ec35ac6-37a3-43c8-8b35-f712f26c78cb",
     "showTitle": false,
     "tableResultSettingsMap": {},
     "title": ""
    }
   },
   "outputs": [],
   "source": [
    "%sql\n",
    "\n",
    "CREATE OR REPLACE FUNCTION avg_price(monthly_charges_in DOUBLE, tenure_in DOUBLE, total_charges_in DOUBLE)\n",
    "RETURNS FLOAT\n",
    "LANGUAGE PYTHON\n",
    "AS $$\n",
    "if tenure_in > 0:\n",
    "  return monthly_charges_in - total_charges_in / tenure_in\n",
    "else:\n",
    "  return 0\n",
    "$$"
   ]
  }
 ],
 "metadata": {
  "application/vnd.databricks.v1+notebook": {
   "computePreferences": null,
   "dashboards": [],
   "environmentMetadata": {
    "base_environment": "",
    "environment_version": "2"
   },
   "inputWidgetPreferences": null,
   "language": "python",
   "notebookMetadata": {
    "mostRecentlyExecutedCommandWithImplicitDF": {
     "commandId": 8456798178298284,
     "dataframes": [
      "_sqldf"
     ]
    },
    "pythonIndentUnit": 4
   },
   "notebookName": "01_feature_engineering",
   "widgets": {}
  },
  "language_info": {
   "name": "python"
  }
 },
 "nbformat": 4,
 "nbformat_minor": 0
}
