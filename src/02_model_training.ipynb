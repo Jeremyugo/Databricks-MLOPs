{
 "cells": [
  {
   "cell_type": "markdown",
   "metadata": {
    "application/vnd.databricks.v1+cell": {
     "cellMetadata": {},
     "inputWidgets": {},
     "nuid": "c6f9b326-3c07-4207-9c76-d9ec70d9125e",
     "showTitle": false,
     "tableResultSettingsMap": {},
     "title": ""
    }
   },
   "source": [
    "\n",
    "# Model Training"
   ]
  },
  {
   "cell_type": "code",
   "execution_count": 0,
   "metadata": {
    "application/vnd.databricks.v1+cell": {
     "cellMetadata": {
      "byteLimit": 2048000,
      "rowLimit": 10000
     },
     "inputWidgets": {},
     "nuid": "edc4329f-e114-42de-8691-7148ce99363f",
     "showTitle": false,
     "tableResultSettingsMap": {},
     "title": ""
    }
   },
   "outputs": [],
   "source": [
    "import pandas as pd\n",
    "import warnings\n",
    "\n",
    "from sklearn import set_config\n",
    "from sklearn.compose import ColumnTransformer\n",
    "from sklearn.impute import SimpleImputer\n",
    "from sklearn.model_selection import train_test_split\n",
    "from sklearn.pipeline import Pipeline\n",
    "from sklearn.preprocessing import FunctionTransformer, StandardScaler\n",
    "from sklearn.preprocessing import OneHotEncoder as SklearnOneHotEncoder\n",
    "\n",
    "from databricks.automl_runtime.sklearn import OneHotEncoder\n",
    "from databricks.automl_runtime.sklearn.column_selector import ColumnSelector\n",
    "from databricks.feature_engineering import FeatureEngineeringClient\n",
    "from databricks.feature_store import FeatureFunction, FeatureLookup\n",
    "\n",
    "import lightgbm\n",
    "from lightgbm import LGBMClassifier\n",
    "\n",
    "import mlflow\n",
    "from mlflow import pyfunc\n",
    "from mlflow.models import Model, infer_signature, ModelSignature\n",
    "from mlflow.pyfunc import PyFuncModel\n",
    "from mlflow.types.utils import _infer_schema\n",
    "from mlflow.exceptions import MlflowException\n",
    "\n",
    "from hyperopt import hp, tpe, fmin, STATUS_OK, Trials\n",
    "\n",
    "from shap import KernelExplainer, summary_plot"
   ]
  },
  {
   "cell_type": "code",
   "execution_count": 0,
   "metadata": {
    "application/vnd.databricks.v1+cell": {
     "cellMetadata": {},
     "inputWidgets": {},
     "nuid": "51cfa60d-270d-487b-8a23-651d366bb90a",
     "showTitle": false,
     "tableResultSettingsMap": {},
     "title": ""
    }
   },
   "outputs": [],
   "source": [
    "# set model experiment name and path\n",
    "current_user = dbutils.notebook.entry_point.getDbutils().notebook().getContext().userName().get()\n",
    "mlflow.set_registry_uri(\"databricks-uc\")\n",
    "xp_name = \"dbdemos_mlops_churn_demo_experiment\"\n",
    "xp_path = f\"/Users/{current_user}/dbdemos_mlops\"\n",
    "\n",
    "mlflow.set_experiment(f\"{xp_path}/{xp_name}\")"
   ]
  },
  {
   "cell_type": "code",
   "execution_count": 0,
   "metadata": {
    "application/vnd.databricks.v1+cell": {
     "cellMetadata": {
      "byteLimit": 2048000,
      "rowLimit": 10000
     },
     "inputWidgets": {},
     "nuid": "9592c86b-cca4-47c0-985e-3e761bcc782b",
     "showTitle": false,
     "tableResultSettingsMap": {},
     "title": ""
    }
   },
   "outputs": [],
   "source": [
    "%%sql\n",
    "\n",
    "use catalog main;\n",
    "\n",
    "use schema dbdemos_mlops;"
   ]
  },
  {
   "cell_type": "markdown",
   "metadata": {
    "application/vnd.databricks.v1+cell": {
     "cellMetadata": {},
     "inputWidgets": {},
     "nuid": "412740c1-33a2-4809-8559-64b048547854",
     "showTitle": false,
     "tableResultSettingsMap": {},
     "title": ""
    }
   },
   "source": [
    "**Create Feature Specifications**"
   ]
  },
  {
   "cell_type": "code",
   "execution_count": 0,
   "metadata": {
    "application/vnd.databricks.v1+cell": {
     "cellMetadata": {
      "byteLimit": 2048000,
      "rowLimit": 10000
     },
     "inputWidgets": {},
     "nuid": "1a05f6e5-abfd-4156-821e-3977864033c9",
     "showTitle": false,
     "tableResultSettingsMap": {},
     "title": ""
    }
   },
   "outputs": [],
   "source": [
    "features = [\n",
    "    FeatureLookup(\n",
    "      table_name=\"advanced_churn_feature_table\",\n",
    "      lookup_key=[\"customer_id\"],\n",
    "      timestamp_lookup_key=\"transaction_ts\"\n",
    "    ),\n",
    "    FeatureFunction(\n",
    "      udf_name=\"avg_price_increase\",\n",
    "      input_bindings={\n",
    "        \"monthly_charges_in\" : \"monthly_charges\",\n",
    "        \"tenure_in\" : \"tenure\",\n",
    "        \"total_charges_in\" : \"total_charges\"\n",
    "      },\n",
    "      output_name=\"avg_price_increase\"\n",
    "    )\n",
    "]\n",
    "\n",
    "labels_df = spark.table('advanced_churn_label_table')\n",
    "label_col = 'churn'"
   ]
  },
  {
   "cell_type": "code",
   "execution_count": 0,
   "metadata": {
    "application/vnd.databricks.v1+cell": {
     "cellMetadata": {
      "byteLimit": 2048000,
      "rowLimit": 10000
     },
     "inputWidgets": {},
     "nuid": "6f0d05e9-0aeb-4d68-938a-3ee447f26216",
     "showTitle": false,
     "tableResultSettingsMap": {},
     "title": ""
    }
   },
   "outputs": [],
   "source": [
    "fe = FeatureEngineeringClient()\n",
    "\n",
    "training_set_specs = fe.create_training_set(\n",
    "  df=labels_df, \n",
    "  label=\"churn\",\n",
    "  feature_lookups=features,\n",
    "  exclude_columns=[\"customer_id\", \"transaction_ts\", 'split']\n",
    ")\n",
    "\n",
    "df_loaded = training_set_specs.load_df().toPandas()\n",
    "\n",
    "supported_cols = [\"online_backup\", \"internet_service\", \"payment_method\", \"multiple_lines\", \"paperless_billing\", \"partner\", \"tech_support\", \"tenure\", \"contract\", \"avg_price_increase\", \"phone_service\", \"streaming_movies\", \"dependents\", \"senior_citizen\", \"num_optional_services\", \"device_protection\", \"monthly_charges\", \"total_charges\", \"streaming_tv\", \"gender\", \"online_security\"]\n",
    "\n",
    "col_selector = ColumnSelector(supported_cols)"
   ]
  },
  {
   "cell_type": "markdown",
   "metadata": {
    "application/vnd.databricks.v1+cell": {
     "cellMetadata": {},
     "inputWidgets": {},
     "nuid": "ae3e19b6-9a81-4a85-92c3-ef6154118da3",
     "showTitle": false,
     "tableResultSettingsMap": {},
     "title": ""
    }
   },
   "source": [
    "## Preprocessors"
   ]
  },
  {
   "cell_type": "code",
   "execution_count": 0,
   "metadata": {
    "application/vnd.databricks.v1+cell": {
     "cellMetadata": {
      "byteLimit": 2048000,
      "rowLimit": 10000
     },
     "inputWidgets": {},
     "nuid": "4f81cdd6-1026-434d-bacb-d3ddb4452786",
     "showTitle": false,
     "tableResultSettingsMap": {},
     "title": ""
    }
   },
   "outputs": [],
   "source": [
    "# Boolean features\n",
    "bool_imputers = []\n",
    "bool_pipeline = Pipeline([\n",
    "    (\"cast_type\", FunctionTransformer(lambda df: df.astype(object))),\n",
    "    (\"imputers\", ColumnTransformer(bool_imputers, remainder=\"passthrough\")),\n",
    "    (\"onehot\", SklearnOneHotEncoder(handle_unknown=\"ignore\", drop=\"first\")),\n",
    "])\n",
    "\n",
    "# Numerical features\n",
    "num_imputers = []\n",
    "num_imputers.append((\"impute_mean\", SimpleImputer(), [\"avg_price_increase\", \"monthly_charges\", \"num_optional_services\", \"tenure\", \"total_charges\"]))\n",
    "\n",
    "numerical_pipeline = Pipeline([\n",
    "    (\"converter\", FunctionTransformer(lambda df: df.apply(pd.to_numeric, errors='coerce'))),\n",
    "    (\"imputers\", ColumnTransformer(num_imputers)),\n",
    "    (\"standardizer\", StandardScaler()),\n",
    "])\n",
    "\n",
    "# Categorical features\n",
    "one_hot_imputers = []\n",
    "one_hot_pipeline = Pipeline(steps=[\n",
    "    (\"imputers\", ColumnTransformer(one_hot_imputers, remainder=\"passthrough\")),\n",
    "    (\"one_hot_encoder\", OneHotEncoder(handle_unknown=\"indicator\")),\n",
    "])\n",
    "\n",
    "\n",
    "bool_transformers = [(\"boolean\", bool_pipeline, [\"gender\", \"phone_service\", \"dependents\", \"senior_citizen\", \"paperless_billing\", \"partner\"])]\n",
    "numerical_transformers = [(\"numerical\", numerical_pipeline, [\"monthly_charges\", \"total_charges\", \"avg_price_increase\", \"tenure\", \"num_optional_services\"])]\n",
    "categorical_one_hot_transformers = [(\"onehot\", one_hot_pipeline, [\"contract\", \"device_protection\", \"internet_service\", \"multiple_lines\", \"online_backup\", \"online_security\", \"payment_method\", \"streaming_movies\", \"streaming_tv\", \"tech_support\"])]\n",
    "\n",
    "preprocessor = ColumnTransformer(\n",
    "  transformers=bool_transformers + numerical_transformers + categorical_one_hot_transformers,\n",
    "  remainder='passthrough',\n",
    "  sparse_threshold=0\n",
    ")"
   ]
  },
  {
   "cell_type": "markdown",
   "metadata": {
    "application/vnd.databricks.v1+cell": {
     "cellMetadata": {},
     "inputWidgets": {},
     "nuid": "5bc4c066-b2ed-4144-89a7-e3decbd52261",
     "showTitle": false,
     "tableResultSettingsMap": {},
     "title": ""
    }
   },
   "source": [
    "### Train - Validation - Test Split"
   ]
  },
  {
   "cell_type": "code",
   "execution_count": 0,
   "metadata": {
    "application/vnd.databricks.v1+cell": {
     "cellMetadata": {
      "byteLimit": 2048000,
      "rowLimit": 10000
     },
     "inputWidgets": {},
     "nuid": "0b22cf25-6fc2-452f-83e2-55776ee25836",
     "showTitle": false,
     "tableResultSettingsMap": {},
     "title": ""
    }
   },
   "outputs": [],
   "source": [
    "X_train, X_eval, y_train, y_eval = train_test_split(\n",
    "  df_loaded.drop(label_col, axis=1), \n",
    "  df_loaded[label_col], \n",
    "  test_size=0.4, \n",
    "  stratify=df_loaded[label_col], \n",
    "  random_state=42\n",
    ")\n",
    "\n",
    "X_val, X_test, y_val, y_test = train_test_split(\n",
    "  X_eval, \n",
    "  y_eval, \n",
    "  test_size=0.5, \n",
    "  stratify=y_eval, \n",
    "  random_state=42\n",
    ")"
   ]
  },
  {
   "cell_type": "markdown",
   "metadata": {
    "application/vnd.databricks.v1+cell": {
     "cellMetadata": {},
     "inputWidgets": {},
     "nuid": "108672e1-23f8-4c49-8875-36f504b0ee76",
     "showTitle": false,
     "tableResultSettingsMap": {},
     "title": ""
    }
   },
   "source": [
    "### Train the Classification Model"
   ]
  },
  {
   "cell_type": "code",
   "execution_count": 0,
   "metadata": {
    "application/vnd.databricks.v1+cell": {
     "cellMetadata": {
      "byteLimit": 2048000,
      "rowLimit": 10000
     },
     "inputWidgets": {},
     "nuid": "2764fb4d-1d95-4993-a51d-de42c331e78d",
     "showTitle": false,
     "tableResultSettingsMap": {},
     "title": ""
    }
   },
   "outputs": [],
   "source": [
    "mlflow.sklearn.autolog(disable=True)\n",
    "pipeline_val = Pipeline([\n",
    "    (\"column_selector\", col_selector),\n",
    "    (\"preprocessor\", preprocessor),\n",
    "])\n",
    "pipeline_val.fit(X_train, y_train)\n",
    "X_val_processed = pipeline_val.transform(X_val)\n",
    "\n",
    "\n",
    "def objective(params):\n",
    "  with mlflow.start_run(run_name=\"mlops_best_run\") as mlflow_run:\n",
    "    lgbmc_classifier = LGBMClassifier(**params)\n",
    "\n",
    "    model = Pipeline([\n",
    "        (\"column_selector\", col_selector),\n",
    "        (\"preprocessor\", preprocessor),\n",
    "        (\"classifier\", lgbmc_classifier),\n",
    "    ])\n",
    "\n",
    "    mlflow.sklearn.autolog(\n",
    "        log_input_examples=True,\n",
    "        log_models=False,\n",
    "        silent=True)\n",
    "\n",
    "    model.fit(X_train, y_train, classifier__callbacks=[lightgbm.early_stopping(5), lightgbm.log_evaluation(0)], classifier__eval_set=[(X_val_processed,y_val)])\n",
    "\n",
    "    # Log the model\n",
    "    # Infer output schema\n",
    "    try:\n",
    "      output_schema = _infer_schema(y_train)\n",
    "    except Exception as e:\n",
    "      warnings.warn(f\"Could not infer model output schema: {e}\")\n",
    "      output_schema = None\n",
    "    \n",
    "    # use the Feature Engineering client to log the model\n",
    "    # this logs the feature specifications along with the model,\n",
    "    # allowing it to be used at inference time to retrieve features\n",
    "    fe.log_model(\n",
    "        model=model,\n",
    "        artifact_path=\"model\",\n",
    "        flavor=mlflow.sklearn,\n",
    "        training_set=training_set_specs,\n",
    "        output_schema=output_schema,\n",
    "        extra_pip_requirements=[\"databricks-feature-lookup>=1.5.0\"]\n",
    "    )\n",
    "\n",
    "    # log metrics for the training, validation and test set\n",
    "    mlflow_model = Model()\n",
    "    pyfunc.add_to_model(mlflow_model, loader_module=\"mlflow.sklearn\")\n",
    "    pyfunc_model = PyFuncModel(model_meta=mlflow_model, model_impl=model)\n",
    "    training_eval_result = mlflow.evaluate(\n",
    "        model=pyfunc_model,\n",
    "        data=X_train.assign(**{str(label_col):y_train}),\n",
    "        targets=label_col,\n",
    "        model_type=\"classifier\",\n",
    "        evaluator_config = {\"log_model_explainability\": False,\n",
    "                            \"metric_prefix\": \"training_\" , \"pos_label\": \"Yes\" }\n",
    "    )\n",
    "    lgbmc_training_metrics = training_eval_result.metrics\n",
    "\n",
    "    val_eval_result = mlflow.evaluate(\n",
    "        model=pyfunc_model,\n",
    "        data=X_val.assign(**{str(label_col):y_val}),\n",
    "        targets=label_col,\n",
    "        model_type=\"classifier\",\n",
    "        evaluator_config = {\"log_model_explainability\": False,\n",
    "                            \"metric_prefix\": \"val_\" , \"pos_label\": \"Yes\" }\n",
    "    )\n",
    "    lgbmc_val_metrics = val_eval_result.metrics\n",
    "\n",
    "    test_eval_result = mlflow.evaluate(\n",
    "        model=pyfunc_model,\n",
    "        data=X_test.assign(**{str(label_col):y_test}),\n",
    "        targets=label_col,\n",
    "        model_type=\"classifier\",\n",
    "        evaluator_config = {\"log_model_explainability\": False,\n",
    "                            \"metric_prefix\": \"test_\" , \"pos_label\": \"Yes\" }\n",
    "    )\n",
    "    lgbmc_test_metrics = test_eval_result.metrics\n",
    "\n",
    "    loss = -lgbmc_val_metrics[\"val_f1_score\"]\n",
    "\n",
    "    # truncate metric key names so they can be displayed together\n",
    "    lgbmc_val_metrics = {k.replace(\"val_\", \"\"): v for k, v in lgbmc_val_metrics.items()}\n",
    "    lgbmc_test_metrics = {k.replace(\"test_\", \"\"): v for k, v in lgbmc_test_metrics.items()}\n",
    "\n",
    "    return {\n",
    "      \"loss\": loss,\n",
    "      \"status\": STATUS_OK,\n",
    "      \"val_metrics\": lgbmc_val_metrics,\n",
    "      \"test_metrics\": lgbmc_test_metrics,\n",
    "      \"model\": model,\n",
    "      \"run\": mlflow_run,\n",
    "    }"
   ]
  },
  {
   "cell_type": "markdown",
   "metadata": {
    "application/vnd.databricks.v1+cell": {
     "cellMetadata": {},
     "inputWidgets": {},
     "nuid": "9e6101b1-8e69-4a14-b3a7-070012fd4dc4",
     "showTitle": false,
     "tableResultSettingsMap": {},
     "title": ""
    }
   },
   "source": [
    "### Configure the Hyperparameter search space"
   ]
  },
  {
   "cell_type": "code",
   "execution_count": 0,
   "metadata": {
    "application/vnd.databricks.v1+cell": {
     "cellMetadata": {
      "byteLimit": 2048000,
      "rowLimit": 10000
     },
     "inputWidgets": {},
     "nuid": "a9783673-95ba-41e7-b969-e9187e354910",
     "showTitle": false,
     "tableResultSettingsMap": {},
     "title": ""
    }
   },
   "outputs": [],
   "source": [
    "# define the hyperparameter search space\n",
    "space = {\n",
    "  \"colsample_bytree\": 0.4120544919020157,\n",
    "  \"lambda_l1\": 2.6616074270114995,\n",
    "  \"lambda_l2\": 514.9224373768443,\n",
    "  \"learning_rate\": 0.0778497372371143,\n",
    "  \"max_bin\": 229,\n",
    "  \"max_depth\": 9,\n",
    "  \"min_child_samples\": 66,\n",
    "  \"n_estimators\": 250,\n",
    "  \"num_leaves\": 100,\n",
    "  \"path_smooth\": 61.06596877554017,\n",
    "  \"subsample\": 0.6965257092078714,\n",
    "  \"random_state\": 42,\n",
    "}"
   ]
  },
  {
   "cell_type": "code",
   "execution_count": 0,
   "metadata": {
    "application/vnd.databricks.v1+cell": {
     "cellMetadata": {
      "byteLimit": 2048000,
      "rowLimit": 10000
     },
     "inputWidgets": {},
     "nuid": "07cac3d8-1621-4cc4-8682-0dde7e133236",
     "showTitle": false,
     "tableResultSettingsMap": {},
     "title": ""
    }
   },
   "outputs": [],
   "source": [
    "trials = Trials()\n",
    "fmin(objective,\n",
    "     space=space,\n",
    "     algo=tpe.suggest,\n",
    "     max_evals=1, \n",
    "     trials=trials)\n",
    "\n",
    "best_result = trials.best_trial[\"result\"]\n",
    "model = best_result[\"model\"]\n",
    "mlflow_run = best_result[\"run\"]\n",
    "\n",
    "display(\n",
    "  pd.DataFrame(\n",
    "    [best_result[\"val_metrics\"], best_result[\"test_metrics\"]],\n",
    "    index=[\"validation\", \"test\"]))\n",
    "\n",
    "set_config(display=\"diagram\")\n",
    "model"
   ]
  },
  {
   "cell_type": "markdown",
   "metadata": {
    "application/vnd.databricks.v1+cell": {
     "cellMetadata": {},
     "inputWidgets": {},
     "nuid": "7f739a9f-9051-4be1-a435-b860add11c88",
     "showTitle": false,
     "tableResultSettingsMap": {},
     "title": ""
    }
   },
   "source": [
    "### Feature Importances"
   ]
  },
  {
   "cell_type": "code",
   "execution_count": 0,
   "metadata": {
    "application/vnd.databricks.v1+cell": {
     "cellMetadata": {
      "byteLimit": 2048000,
      "rowLimit": 10000
     },
     "inputWidgets": {},
     "nuid": "928ac6a9-b627-4336-9908-dbca430c0121",
     "showTitle": false,
     "tableResultSettingsMap": {},
     "title": ""
    }
   },
   "outputs": [],
   "source": [
    "shap_enabled = True\n",
    "if shap_enabled:\n",
    "  mlflow.autolog(disable=True)\n",
    "  mlflow.sklearn.autolog(disable=True)\n",
    "\n",
    "  mode = X_train.mode().iloc[0]\n",
    "  train_sample = X_train.sample(n=min(100, X_train.shape[0]), random_state=42).fillna(mode)\n",
    "  example = X_val.sample(n=min(100, X_val.shape[0]), random_state=42).fillna(mode)\n",
    "\n",
    "  predict = lambda x: model.predict_proba(pd.DataFrame(x, columns=X_train.columns))\n",
    "  explainer = KernelExplainer(predict, train_sample, link=\"logit\")\n",
    "  shap_values = explainer.shap_values(example, l1_reg=False, nsamples=100)\n",
    "  summary_plot(shap_values, example, class_names=model.classes_)"
   ]
  },
  {
   "cell_type": "markdown",
   "metadata": {
    "application/vnd.databricks.v1+cell": {
     "cellMetadata": {},
     "inputWidgets": {},
     "nuid": "cb849a54-6636-4b9d-99de-389becac937e",
     "showTitle": false,
     "tableResultSettingsMap": {},
     "title": ""
    }
   },
   "source": [
    "### Confusion matrix, ROC, and Precision-Recall curves for validation "
   ]
  },
  {
   "cell_type": "code",
   "execution_count": 0,
   "metadata": {
    "application/vnd.databricks.v1+cell": {
     "cellMetadata": {
      "byteLimit": 2048000,
      "rowLimit": 10000
     },
     "inputWidgets": {},
     "nuid": "16077d97-b605-46ac-9e6c-d5b6c1379f74",
     "showTitle": false,
     "tableResultSettingsMap": {},
     "title": ""
    }
   },
   "outputs": [],
   "source": [
    "displayHTML(f\"<a href=#mlflow/experiments/{mlflow_run.info.experiment_id}/runs/{ mlflow_run.info.run_id }/artifactPath/model> Link to model run page </a>\")"
   ]
  },
  {
   "cell_type": "code",
   "execution_count": 0,
   "metadata": {
    "application/vnd.databricks.v1+cell": {
     "cellMetadata": {},
     "inputWidgets": {},
     "nuid": "dfff7ef4-7603-47f5-8aac-7b78c2486170",
     "showTitle": false,
     "tableResultSettingsMap": {},
     "title": ""
    }
   },
   "outputs": [],
   "source": []
  }
 ],
 "metadata": {
  "application/vnd.databricks.v1+notebook": {
   "computePreferences": null,
   "dashboards": [],
   "environmentMetadata": {
    "base_environment": "",
    "environment_version": "2"
   },
   "inputWidgetPreferences": null,
   "language": "python",
   "notebookMetadata": {
    "pythonIndentUnit": 4
   },
   "notebookName": "02_model_training",
   "widgets": {}
  },
  "language_info": {
   "name": "python"
  }
 },
 "nbformat": 4,
 "nbformat_minor": 0
}
