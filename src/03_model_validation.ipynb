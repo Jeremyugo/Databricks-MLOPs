{
 "cells": [
  {
   "cell_type": "markdown",
   "metadata": {
    "application/vnd.databricks.v1+cell": {
     "cellMetadata": {
      "byteLimit": 2048000,
      "rowLimit": 10000
     },
     "inputWidgets": {},
     "nuid": "49f4cf5b-b0e5-46a8-a90e-3743003fc9c5",
     "showTitle": false,
     "tableResultSettingsMap": {},
     "title": ""
    }
   },
   "source": [
    "# Model Validation"
   ]
  },
  {
   "cell_type": "code",
   "execution_count": 0,
   "metadata": {
    "application/vnd.databricks.v1+cell": {
     "cellMetadata": {
      "byteLimit": 2048000,
      "rowLimit": 10000
     },
     "inputWidgets": {},
     "nuid": "b85bd125-5ef1-4c5f-ae8f-d261239cb7ff",
     "showTitle": false,
     "tableResultSettingsMap": {},
     "title": ""
    }
   },
   "outputs": [],
   "source": [
    "import pandas as pd\n",
    "import mlflow\n",
    "from mlflow import MlflowClient\n",
    "from mlflow.store.artifact.models_artifact_repo import ModelsArtifactRepository\n",
    "\n",
    "from databricks.feature_engineering import FeatureEngineeringClient\n",
    "\n",
    "import pyspark.sql.functions as F\n",
    "from pyspark.sql.types import StructType\n",
    "\n",
    "from sklearn.metrics import confusion_matrix\n",
    "import plotly.express as px\n",
    "\n",
    "\n",
    "\n",
    "current_user = dbutils.notebook.entry_point.getDbutils().notebook().getContext().userName().get()\n",
    "xp_name = \"dbdemos_mlops_churn_demo_experiment\"\n",
    "xp_path = f\"/Users/{current_user}/dbdemos_mlops\"\n",
    "mlflow.set_experiment(f\"{xp_path}/{xp_name}\")\n",
    "\n",
    "model_name = 'advanced_mlops_churn'"
   ]
  },
  {
   "cell_type": "code",
   "execution_count": 0,
   "metadata": {
    "application/vnd.databricks.v1+cell": {
     "cellMetadata": {
      "byteLimit": 2048000,
      "rowLimit": 10000
     },
     "inputWidgets": {},
     "nuid": "8d3926cb-de84-47e8-a614-fc24e56b3e3e",
     "showTitle": false,
     "tableResultSettingsMap": {},
     "title": ""
    }
   },
   "outputs": [],
   "source": [
    "%%sql\n",
    "\n",
    "use catalog main;\n",
    "\n",
    "use schema dbdemos_mlops;"
   ]
  },
  {
   "cell_type": "code",
   "execution_count": 0,
   "metadata": {
    "application/vnd.databricks.v1+cell": {
     "cellMetadata": {
      "byteLimit": 2048000,
      "rowLimit": 10000
     },
     "inputWidgets": {},
     "nuid": "951fc819-7473-407d-a11c-df11321d982e",
     "showTitle": false,
     "tableResultSettingsMap": {},
     "title": ""
    }
   },
   "outputs": [],
   "source": [
    "best_model = mlflow.search_runs(\n",
    "    order_by=[\"metrics.test_f1_score DESC\"],\n",
    "    max_results=1,\n",
    "    filter_string=f\"status = 'FINISHED' and run_name='mlops_best_run'\"\n",
    ")\n",
    "\n",
    "run_id = best_model.iloc[0]['run_id']\n",
    "model_details = mlflow.register_model(f'runs:/{run_id}/model', f'{model_name}')\n",
    "\n",
    "best_model"
   ]
  },
  {
   "cell_type": "markdown",
   "metadata": {
    "application/vnd.databricks.v1+cell": {
     "cellMetadata": {
      "byteLimit": 2048000,
      "rowLimit": 10000
     },
     "inputWidgets": {},
     "nuid": "5023ffb3-2e40-442d-b5b4-f2d2159c6734",
     "showTitle": false,
     "tableResultSettingsMap": {},
     "title": ""
    }
   },
   "source": [
    "**register the model**"
   ]
  },
  {
   "cell_type": "code",
   "execution_count": 0,
   "metadata": {
    "application/vnd.databricks.v1+cell": {
     "cellMetadata": {
      "byteLimit": 2048000,
      "rowLimit": 10000
     },
     "inputWidgets": {},
     "nuid": "4a69992a-7fbd-4331-976e-6a5dabf9614b",
     "showTitle": false,
     "tableResultSettingsMap": {},
     "title": ""
    }
   },
   "outputs": [],
   "source": [
    "client = MlflowClient()\n",
    "\n",
    "client.update_registered_model(\n",
    "  name=model_details.name,\n",
    "  description=\"This model predicts whether a customer will churn or not\",\n",
    ")"
   ]
  },
  {
   "cell_type": "code",
   "execution_count": 0,
   "metadata": {
    "application/vnd.databricks.v1+cell": {
     "cellMetadata": {
      "byteLimit": 2048000,
      "rowLimit": 10000
     },
     "inputWidgets": {},
     "nuid": "233f0f02-7068-4d12-8861-6854565dc225",
     "showTitle": false,
     "tableResultSettingsMap": {},
     "title": ""
    }
   },
   "outputs": [],
   "source": [
    "best_score = best_model['metrics.test_f1_score'].values[0]\n",
    "run_name = best_model['tags.mlflow.runName'].values[0]\n",
    "version_desc = f\"This model version has an F1 validation metric of {round(best_score,4)*100}%. Follow the link to its training run for more details.\"\n",
    "\n",
    "client.update_model_version(\n",
    "  name=model_details.name,\n",
    "  version=model_details.version,\n",
    "  description=version_desc\n",
    ")\n",
    "\n",
    "client.set_model_version_tag(\n",
    "  name=model_details.name,\n",
    "  version=model_details.version,\n",
    "  key=\"f1_score\",\n",
    "  value=f\"{round(best_score,4)}\"\n",
    ")"
   ]
  },
  {
   "cell_type": "markdown",
   "metadata": {
    "application/vnd.databricks.v1+cell": {
     "cellMetadata": {
      "byteLimit": 2048000,
      "rowLimit": 10000
     },
     "inputWidgets": {},
     "nuid": "406dddc2-78bc-4e13-9b2c-b85d0073b61f",
     "showTitle": false,
     "tableResultSettingsMap": {},
     "title": ""
    }
   },
   "source": [
    "### Set the latest model version as the Challenger model\n",
    "Challenger models are the models to replace the Champion model if it passes its performance evaluation"
   ]
  },
  {
   "cell_type": "code",
   "execution_count": 0,
   "metadata": {
    "application/vnd.databricks.v1+cell": {
     "cellMetadata": {
      "byteLimit": 2048000,
      "rowLimit": 10000
     },
     "inputWidgets": {},
     "nuid": "a346517e-75cd-4b93-8e66-1cd31d6415df",
     "showTitle": false,
     "tableResultSettingsMap": {},
     "title": ""
    }
   },
   "outputs": [],
   "source": [
    "client.set_registered_model_alias(\n",
    "  name=f\"advanced_mlops_churn\",\n",
    "  alias=\"Challenger\",\n",
    "  version=model_details.version\n",
    ")\n"
   ]
  },
  {
   "cell_type": "markdown",
   "metadata": {
    "application/vnd.databricks.v1+cell": {
     "cellMetadata": {
      "byteLimit": 2048000,
      "rowLimit": 10000
     },
     "inputWidgets": {},
     "nuid": "39064e6d-95f8-43cc-9dfb-74186044feee",
     "showTitle": false,
     "tableResultSettingsMap": {},
     "title": ""
    }
   },
   "source": [
    "### Evaluating the model using a Business metric - Revenue Impact\n",
    "Rather than evaluating model performance using metrics that have no business meaning, in this section the model will be evalauted based on its impact on Revenue Genrated in dollars"
   ]
  },
  {
   "cell_type": "code",
   "execution_count": 0,
   "metadata": {
    "application/vnd.databricks.v1+cell": {
     "cellMetadata": {
      "byteLimit": 2048000,
      "rowLimit": 10000
     },
     "inputWidgets": {},
     "nuid": "e19e6cd0-1945-4900-b4bd-b0957f338b64",
     "showTitle": false,
     "tableResultSettingsMap": {},
     "title": ""
    }
   },
   "outputs": [],
   "source": [
    "model_alias = 'Challenger'\n",
    "\n",
    "requirements_path = ModelsArtifactRepository(f'models:/{model_name}@{model_alias}').download_artifacts(artifact_path='requirements.txt')\n",
    "\n",
    "model_details = client.get_model_version_by_alias(model_name, model_alias)\n",
    "model_version = int(model_details.version)\n",
    "run_info = client.get_run(run_id=model_details.run_id)\n",
    "\n",
    "print(f\"Validating {model_alias} model for {model_name} on model version {model_version}\")"
   ]
  },
  {
   "cell_type": "code",
   "execution_count": 0,
   "metadata": {
    "application/vnd.databricks.v1+cell": {
     "cellMetadata": {
      "byteLimit": 2048000,
      "rowLimit": 10000
     },
     "inputWidgets": {},
     "nuid": "4bc5b036-c445-4790-a42c-d564207d1380",
     "showTitle": false,
     "tableResultSettingsMap": {},
     "title": ""
    }
   },
   "outputs": [],
   "source": [
    "fe = FeatureEngineeringClient()\n",
    "\n",
    "model_uri = f\"models:/{model_name}@{model_alias}\"\n",
    "label_col = \"churn\""
   ]
  },
  {
   "cell_type": "code",
   "execution_count": 0,
   "metadata": {
    "application/vnd.databricks.v1+cell": {
     "cellMetadata": {
      "byteLimit": 2048000,
      "rowLimit": 10000
     },
     "inputWidgets": {},
     "nuid": "07719140-8aa5-4e9e-b044-be7ef6e0448a",
     "showTitle": false,
     "tableResultSettingsMap": {},
     "title": ""
    }
   },
   "outputs": [],
   "source": [
    "validation_df = spark.table('advanced_churn_label_table').filter(\"split='validate'\")\n",
    "\n",
    "def predict_churn(validation_df, model_alias):\n",
    "    features_w_preds = fe.score_batch(df=validation_df, model_uri=f\"models:/{model_name}@{model_alias}\", \n",
    "                                      result_type=validation_df.schema[label_col].dataType)\n",
    "\n",
    "    return features_w_preds"
   ]
  },
  {
   "cell_type": "code",
   "execution_count": 0,
   "metadata": {
    "application/vnd.databricks.v1+cell": {
     "cellMetadata": {
      "byteLimit": 2048000,
      "rowLimit": 10000
     },
     "inputWidgets": {},
     "nuid": "2a509f80-7186-455e-8cf3-63bb267fdaab",
     "showTitle": false,
     "tableResultSettingsMap": {},
     "title": ""
    }
   },
   "outputs": [],
   "source": [
    "cost_of_customer_churn = 5_000 # $5k per customer churned\n",
    "cost_of_retention = 1_000 # $1k discount given to customer\n",
    "\n",
    "cost_of_true_negative = 0\n",
    "cost_of_false_negative = cost_of_customer_churn\n",
    "cost_of_true_positive = cost_of_customer_churn - cost_of_retention\n",
    "cost_of_false_positive = -cost_of_retention\n",
    "\n",
    "def get_model_value_in_dollar(model_alias: str) -> float:\n",
    "    model_predictions = predict_churn(validation_df, model_alias)\n",
    "    tn, fp, fn, tp = confusion_matrix(model_predictions['churn'], model_predictions['prediction']).ravel()\n",
    "    revenue_gain = (tn * cost_of_true_negative) + (tp * cost_of_true_positive) + (fp * cost_of_false_positive) + (fn * cost_of_false_negative)\n",
    "\n",
    "    return revenue_gain\n",
    "\n",
    "\n",
    "try:\n",
    "    champion_model = client.get_model_verrsion_by_alias(model_name, 'Champion')\n",
    "    champion_potential_revenue_gain = get_model_value_in_dollar(\"Champion\")\n",
    "    challenger_potential_revenue_gain = get_model_value_in_dollar(\"Challenger\")\n",
    "    \n",
    "    data = {\n",
    "        'Model Alias': ['Challenger', 'Champion'],\n",
    "        'Potential Revenue Gain': [challenger_potential_revenue_gain, champion_potential_revenue_gain]\n",
    "    }\n",
    "\n",
    "except Exception as e:\n",
    "    print('No Champion model found. re-run this cell after promoting a model to Champion to evaluate busines metric')\n",
    "\n",
    "    data = {\n",
    "        'Model Alias': ['Challenger', 'Champion'],\n",
    "        'Potential Revenue Gain': [0.0,] * 2\n",
    "    }\n",
    "    challenger_potential_revenue_gain, champion_potential_revenue_gain = 1.0, 0.0\n",
    "\n",
    "px.bar(data, x='Model Alias', y='Potential Revenue Gain', color='Model Alias',\n",
    "    labels={'Potential Revenue Gain': 'Revenue Impacted'},\n",
    "    title='Business Metrics - Revenue Impacted')"
   ]
  },
  {
   "cell_type": "code",
   "execution_count": 0,
   "metadata": {
    "application/vnd.databricks.v1+cell": {
     "cellMetadata": {
      "byteLimit": 2048000,
      "rowLimit": 10000
     },
     "inputWidgets": {},
     "nuid": "7cb7e167-9312-419d-867a-49e4daae5c99",
     "showTitle": false,
     "tableResultSettingsMap": {},
     "title": ""
    }
   },
   "outputs": [],
   "source": [
    "if challenger_potential_revenue_gain > champion_potential_revenue_gain:\n",
    "    print(f\"Registering model {model_name} Version {model_version} as Champion!\")\n",
    "    client.set_registered_model_alias(\n",
    "        name=model_name,\n",
    "        alias=\"Champion\",\n",
    "        version=model_version\n",
    "    )"
   ]
  }
 ],
 "metadata": {
  "application/vnd.databricks.v1+notebook": {
   "computePreferences": null,
   "dashboards": [],
   "environmentMetadata": {
    "base_environment": "",
    "environment_version": "2"
   },
   "inputWidgetPreferences": null,
   "language": "python",
   "notebookMetadata": {
    "pythonIndentUnit": 4
   },
   "notebookName": "03_model_validation",
   "widgets": {}
  },
  "language_info": {
   "name": "python"
  }
 },
 "nbformat": 4,
 "nbformat_minor": 0
}
